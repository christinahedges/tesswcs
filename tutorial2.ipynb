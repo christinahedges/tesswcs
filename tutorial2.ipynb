{
 "cells": [
  {
   "cell_type": "markdown",
   "id": "300233a7-cb75-4985-aa0b-2433b6875566",
   "metadata": {},
   "source": [
    "# Using `tesswcs` to find observable targets\n",
    "\n",
    "`tesswcs` has some convenience functions to help you find out which targets are observable with TESS. The `get_pixel_locations` functon will accept sky coordinates, and return a table of which sector, camera, CCD, row, and column those targets fall on (if any). \n",
    "\n",
    "Let's take a look at how to use it. \n",
    "\n",
    "## Example 1: Finding where transiting planets fall on TESS pixels"
   ]
  },
  {
   "cell_type": "code",
   "execution_count": null,
   "id": "474ee75a-4607-4649-8f3e-21b786a5b6f5",
   "metadata": {},
   "outputs": [],
   "source": [
    "from tesswcs.locate import get_pixel_locations\n",
    "import numpy as np\n",
    "import matplotlib.pyplot as plt\n",
    "import astropy.units as u\n",
    "from astropy.table import Table"
   ]
  },
  {
   "cell_type": "markdown",
   "id": "26124212-ff3f-4f1a-8e24-cb8195e80a95",
   "metadata": {},
   "source": [
    "First, we need a target list to check the observability of. For this purpose, I will use the list of confirmed exoplanets. Below I use astroquery to get the coordinates of all the confirmed, transiting exoplanets from the [Exoplanet Archive](https://exoplanetarchive.ipac.caltech.edu/index.html)."
   ]
  },
  {
   "cell_type": "code",
   "execution_count": null,
   "id": "4e69c837-560c-4c67-b153-bb8c69115a50",
   "metadata": {},
   "outputs": [],
   "source": [
    "from astroquery.ipac.nexsci.nasa_exoplanet_archive import NasaExoplanetArchive\n",
    "confirmed_exoplanets_table = NasaExoplanetArchive.query_criteria(table=\"ps\", select=\"pl_name,ra,dec,sy_tmag\", where=\"default_flag=1 AND tran_flag=1\")\n",
    "confirmed_exoplanets_table.sort('sy_tmag')"
   ]
  },
  {
   "cell_type": "code",
   "execution_count": null,
   "id": "40dc39dc-8bbc-40e0-ab9b-57623324dc2e",
   "metadata": {},
   "outputs": [],
   "source": [
    "confirmed_exoplanets_table"
   ]
  },
  {
   "cell_type": "code",
   "execution_count": null,
   "id": "91d3aaa8-fc1b-4710-abc3-a2ace7e94d7a",
   "metadata": {},
   "outputs": [],
   "source": [
    "confirmed_exoplanets_table['sky_coord']"
   ]
  },
  {
   "cell_type": "markdown",
   "id": "5bf6dbe7-732b-4f5b-9675-9c992a57684e",
   "metadata": {},
   "source": [
    "I can now pass these `SkyCoord`s to `get_pixel_location` to get a table of the regions those targets fall on. Any targets that do not fall on a pixel will be omitted."
   ]
  },
  {
   "cell_type": "code",
   "execution_count": null,
   "id": "2948b14d-0569-45fa-9bf3-e87069912049",
   "metadata": {},
   "outputs": [],
   "source": [
    "observable = get_pixel_locations(confirmed_exoplanets_table['sky_coord'])"
   ]
  },
  {
   "cell_type": "markdown",
   "id": "75c3ea11-c2e2-498c-84ab-390c494c2450",
   "metadata": {},
   "source": [
    "We can use pandas to learn more about this table. For example, how many planets are observable for the first time during cycle 7?"
   ]
  },
  {
   "cell_type": "code",
   "execution_count": null,
   "id": "7a3ba520-80ac-4f20-ba4c-795fd028034c",
   "metadata": {},
   "outputs": [],
   "source": [
    "g = observable.to_pandas().groupby('Target Index').min()\n",
    "g"
   ]
  },
  {
   "cell_type": "markdown",
   "id": "9a31d401-2938-481d-a868-3cee1d2884ac",
   "metadata": {},
   "source": [
    "This groupby operation takes the `min` across all the columns for cases of the same `'Target Index'`"
   ]
  },
  {
   "cell_type": "code",
   "execution_count": null,
   "id": "7d621aa9-4ea0-49bc-966e-801c3a865f1f",
   "metadata": {},
   "outputs": [],
   "source": [
    "cycle7_mask = (g['Sector'] >= 84) & (g['Sector'] <= 96)\n",
    "target_index = list(g[cycle7_mask].index)\n",
    "print(len(target_index))"
   ]
  },
  {
   "cell_type": "markdown",
   "id": "cde9b54a-e7bf-44bd-81c2-5dd6b2299c90",
   "metadata": {},
   "source": [
    "There are 92 confirmed transiting planets that will be observed for the first time in Cycle 7!"
   ]
  },
  {
   "cell_type": "code",
   "execution_count": null,
   "id": "ac35d7c2-a574-4f83-99e9-2037cdb57ae0",
   "metadata": {},
   "outputs": [],
   "source": [
    "confirmed_exoplanets_table[target_index]"
   ]
  },
  {
   "cell_type": "markdown",
   "id": "f60ce80a-271e-44e7-8bb2-950caf9b578e",
   "metadata": {},
   "source": [
    "## Example 2: Finding whether a transient will be observable with TESS"
   ]
  },
  {
   "cell_type": "markdown",
   "id": "3e5536f3-ca9e-456a-9288-bd72ac73bf4d",
   "metadata": {},
   "source": [
    "Sometimes we might find an interesting transient, and we want to know whether it will fall on a TESS pixel so that we can recover the optical time-series when the data is downlinked. For example, [GRB 231106A](https://gcn.nasa.gov/circulars/34956) occured in November 2023 and happened to be observable during the TESS survey. \n",
    "\n",
    "Here we show how we would find out if a transient has been (or will be) observable with TESS. \n",
    "\n",
    "To do this we will need two things, the coordinate of the object, and the time at which we would like to observe it. Here we'll use the location and detection time of GRB 231106A."
   ]
  },
  {
   "cell_type": "code",
   "execution_count": null,
   "id": "377ae74c-7266-484b-8173-bb12e97b291b",
   "metadata": {},
   "outputs": [],
   "source": [
    "from astropy.time import Time\n",
    "from astropy.coordinates import SkyCoord\n",
    "\n",
    "t = Time('2023-11-06T18:13:23Z')\n",
    "c = SkyCoord(113.4482, 29.2245, unit='degree')"
   ]
  },
  {
   "cell_type": "code",
   "execution_count": null,
   "id": "8970a33d-a5f4-46a7-95dd-934273870ef7",
   "metadata": {},
   "outputs": [],
   "source": [
    "get_pixel_locations(coords=c, time=t)"
   ]
  },
  {
   "cell_type": "markdown",
   "id": "b296167a-92be-482d-9dcb-8fa238b52340",
   "metadata": {},
   "source": [
    "We can see that this returned a hit, we are able to detect the target during Sector 71, on Camera 4, CCD 1! \n",
    "\n",
    "In instances where the time passed is recent (or in the future!) and there is no archival TESS WCS to use, `tesswcs` will predict the WCS for future TESS pointings."
   ]
  }
 ],
 "metadata": {
  "kernelspec": {
   "display_name": "Python 3 (ipykernel)",
   "language": "python",
   "name": "python3"
  },
  "language_info": {
   "codemirror_mode": {
    "name": "ipython",
    "version": 3
   },
   "file_extension": ".py",
   "mimetype": "text/x-python",
   "name": "python",
   "nbconvert_exporter": "python",
   "pygments_lexer": "ipython3",
   "version": "3.9.13"
  }
 },
 "nbformat": 4,
 "nbformat_minor": 5
}
