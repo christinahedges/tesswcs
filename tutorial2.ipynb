{
 "cells": [
  {
   "cell_type": "markdown",
   "id": "300233a7-cb75-4985-aa0b-2433b6875566",
   "metadata": {},
   "source": [
    "# Using `tesswcs` to find observable targets\n",
    "\n",
    "`tesswcs` has some convenience functions to help you find out which targets are observable with TESS. The `get_pixel_locations` functon will accept sky coordinates, and return a table of which sector, camera, CCD, row, and column those targets fall on (if any). \n",
    "\n",
    "Let's take a look at how to use it. \n",
    "\n",
    "## Example 1: Finding where transiting planets fall on TESS pixels"
   ]
  },
  {
   "cell_type": "code",
   "execution_count": 1,
   "id": "474ee75a-4607-4649-8f3e-21b786a5b6f5",
   "metadata": {},
   "outputs": [],
   "source": [
    "from tesswcs.locate import get_pixel_locations\n",
    "import numpy as np\n",
    "import matplotlib.pyplot as plt\n",
    "import astropy.units as u\n",
    "from astropy.table import Table"
   ]
  },
  {
   "cell_type": "markdown",
   "id": "26124212-ff3f-4f1a-8e24-cb8195e80a95",
   "metadata": {},
   "source": [
    "First, we need a target list to check the observability of. For this purpose, I will use the list of confirmed exoplanets. Below I use astroquery to get the coordinates of all the confirmed, transiting exoplanets from the [Exoplanet Archive](https://exoplanetarchive.ipac.caltech.edu/index.html)."
   ]
  },
  {
   "cell_type": "code",
   "execution_count": 2,
   "id": "4e69c837-560c-4c67-b153-bb8c69115a50",
   "metadata": {},
   "outputs": [],
   "source": [
    "from astroquery.ipac.nexsci.nasa_exoplanet_archive import NasaExoplanetArchive\n",
    "confirmed_exoplanets_table = NasaExoplanetArchive.query_criteria(table=\"ps\", select=\"pl_name,ra,dec,sy_tmag\", where=\"default_flag=1 AND tran_flag=1\")\n",
    "confirmed_exoplanets_table.sort('sy_tmag')"
   ]
  },
  {
   "cell_type": "code",
   "execution_count": 3,
   "id": "40dc39dc-8bbc-40e0-ab9b-57623324dc2e",
   "metadata": {},
   "outputs": [
    {
     "data": {
      "text/html": [
       "<div><i>QTable masked=True length=4176</i>\n",
       "<table id=\"table4546443248\" class=\"table-striped table-bordered table-condensed\">\n",
       "<thead><tr><th>pl_name</th><th>ra</th><th>dec</th><th>sy_tmag</th><th>sky_coord</th></tr></thead>\n",
       "<thead><tr><th></th><th>deg</th><th>deg</th><th>mag</th><th>deg,deg</th></tr></thead>\n",
       "<thead><tr><th>str19</th><th>float64</th><th>float64</th><th>float64</th><th>SkyCoord</th></tr></thead>\n",
       "<tr><td>HD 219134 c</td><td>348.3372026</td><td>57.1696255</td><td>4.6278</td><td>348.3372026,57.1696255</td></tr>\n",
       "<tr><td>HD 219134 b</td><td>348.3372026</td><td>57.1696255</td><td>4.6278</td><td>348.3372026,57.1696255</td></tr>\n",
       "<tr><td>HD 136352 b</td><td>230.4401147</td><td>-48.3188174</td><td>5.0494</td><td>230.4401147,-48.3188174</td></tr>\n",
       "<tr><td>HD 136352 c</td><td>230.4401147</td><td>-48.3188174</td><td>5.0494</td><td>230.4401147,-48.3188174</td></tr>\n",
       "<tr><td>HD 136352 d</td><td>230.4401147</td><td>-48.3188174</td><td>5.0494</td><td>230.4401147,-48.3188174</td></tr>\n",
       "<tr><td>pi Men c</td><td>84.2992798</td><td>-80.4646041</td><td>5.1054</td><td>84.2992798,-80.4646041</td></tr>\n",
       "<tr><td>...</td><td>...</td><td>...</td><td>...</td><td>...</td></tr>\n",
       "<tr><td>WD 1856+534 b</td><td>284.415675</td><td>53.5090244</td><td>16.338</td><td>284.415675,53.5090244</td></tr>\n",
       "<tr><td>Lupus-TR-3 b</td><td>232.5774696</td><td>-42.9799461</td><td>17.7596</td><td>232.5774696,-42.9799461</td></tr>\n",
       "<tr><td>HAT-P-63 b</td><td>279.7967696</td><td>-20.0242684</td><td>19.2571</td><td>279.7967696,-20.0242684</td></tr>\n",
       "<tr><td>OGLE-TR-56 b</td><td>269.1479583</td><td>-29.5392222</td><td>nan</td><td>269.1479583,-29.5392222</td></tr>\n",
       "<tr><td>SWEEPS-11 b</td><td>269.7583333</td><td>-29.1981944</td><td>nan</td><td>269.7583333,-29.1981944</td></tr>\n",
       "<tr><td>SWEEPS-4 b</td><td>269.7246667</td><td>-29.1890556</td><td>nan</td><td>269.7246667,-29.1890556</td></tr>\n",
       "</table></div>"
      ],
      "text/plain": [
       "<QTable masked=True length=4176>\n",
       "   pl_name         ra         dec     sy_tmag        sky_coord       \n",
       "                  deg         deg       mag           deg,deg        \n",
       "    str19       float64     float64   float64         SkyCoord       \n",
       "------------- ----------- ----------- ------- -----------------------\n",
       "  HD 219134 c 348.3372026  57.1696255  4.6278  348.3372026,57.1696255\n",
       "  HD 219134 b 348.3372026  57.1696255  4.6278  348.3372026,57.1696255\n",
       "  HD 136352 b 230.4401147 -48.3188174  5.0494 230.4401147,-48.3188174\n",
       "  HD 136352 c 230.4401147 -48.3188174  5.0494 230.4401147,-48.3188174\n",
       "  HD 136352 d 230.4401147 -48.3188174  5.0494 230.4401147,-48.3188174\n",
       "     pi Men c  84.2992798 -80.4646041  5.1054  84.2992798,-80.4646041\n",
       "          ...         ...         ...     ...                     ...\n",
       "WD 1856+534 b  284.415675  53.5090244  16.338   284.415675,53.5090244\n",
       " Lupus-TR-3 b 232.5774696 -42.9799461 17.7596 232.5774696,-42.9799461\n",
       "   HAT-P-63 b 279.7967696 -20.0242684 19.2571 279.7967696,-20.0242684\n",
       " OGLE-TR-56 b 269.1479583 -29.5392222     nan 269.1479583,-29.5392222\n",
       "  SWEEPS-11 b 269.7583333 -29.1981944     nan 269.7583333,-29.1981944\n",
       "   SWEEPS-4 b 269.7246667 -29.1890556     nan 269.7246667,-29.1890556"
      ]
     },
     "execution_count": 3,
     "metadata": {},
     "output_type": "execute_result"
    }
   ],
   "source": [
    "confirmed_exoplanets_table"
   ]
  },
  {
   "cell_type": "code",
   "execution_count": 4,
   "id": "91d3aaa8-fc1b-4710-abc3-a2ace7e94d7a",
   "metadata": {},
   "outputs": [
    {
     "data": {
      "text/plain": [
       "<SkyCoord (ICRS): (ra, dec) in deg\n",
       "    [(348.3372026,  57.1696255), (348.3372026,  57.1696255),\n",
       "     (230.4401147, -48.3188174), ..., (269.1479583, -29.5392222),\n",
       "     (269.7583333, -29.1981944), (269.7246667, -29.1890556)]>"
      ]
     },
     "execution_count": 4,
     "metadata": {},
     "output_type": "execute_result"
    }
   ],
   "source": [
    "confirmed_exoplanets_table['sky_coord']"
   ]
  },
  {
   "cell_type": "markdown",
   "id": "5bf6dbe7-732b-4f5b-9675-9c992a57684e",
   "metadata": {},
   "source": [
    "I can now pass these `SkyCoord`s to `get_pixel_location` to get a table of the regions those targets fall on. Any targets that do not fall on a pixel will be omitted."
   ]
  },
  {
   "cell_type": "code",
   "execution_count": 5,
   "id": "2948b14d-0569-45fa-9bf3-e87069912049",
   "metadata": {},
   "outputs": [],
   "source": [
    "observable = get_pixel_locations(confirmed_exoplanets_table['sky_coord'])"
   ]
  },
  {
   "cell_type": "markdown",
   "id": "75c3ea11-c2e2-498c-84ab-390c494c2450",
   "metadata": {},
   "source": [
    "We can use pandas to learn more about this table. For example, how many planets are observable for the first time during cycle 7?"
   ]
  },
  {
   "cell_type": "code",
   "execution_count": 6,
   "id": "7a3ba520-80ac-4f20-ba4c-795fd028034c",
   "metadata": {},
   "outputs": [
    {
     "data": {
      "text/html": [
       "<div>\n",
       "<style scoped>\n",
       "    .dataframe tbody tr th:only-of-type {\n",
       "        vertical-align: middle;\n",
       "    }\n",
       "\n",
       "    .dataframe tbody tr th {\n",
       "        vertical-align: top;\n",
       "    }\n",
       "\n",
       "    .dataframe thead th {\n",
       "        text-align: right;\n",
       "    }\n",
       "</style>\n",
       "<table border=\"1\" class=\"dataframe\">\n",
       "  <thead>\n",
       "    <tr style=\"text-align: right;\">\n",
       "      <th></th>\n",
       "      <th>Sector</th>\n",
       "      <th>Camera</th>\n",
       "      <th>CCD</th>\n",
       "      <th>Row</th>\n",
       "      <th>Column</th>\n",
       "    </tr>\n",
       "    <tr>\n",
       "      <th>Target Index</th>\n",
       "      <th></th>\n",
       "      <th></th>\n",
       "      <th></th>\n",
       "      <th></th>\n",
       "      <th></th>\n",
       "    </tr>\n",
       "  </thead>\n",
       "  <tbody>\n",
       "    <tr>\n",
       "      <th>0</th>\n",
       "      <td>17</td>\n",
       "      <td>2</td>\n",
       "      <td>1</td>\n",
       "      <td>384.5</td>\n",
       "      <td>105.2</td>\n",
       "    </tr>\n",
       "    <tr>\n",
       "      <th>1</th>\n",
       "      <td>17</td>\n",
       "      <td>2</td>\n",
       "      <td>1</td>\n",
       "      <td>384.5</td>\n",
       "      <td>105.2</td>\n",
       "    </tr>\n",
       "    <tr>\n",
       "      <th>2</th>\n",
       "      <td>12</td>\n",
       "      <td>1</td>\n",
       "      <td>1</td>\n",
       "      <td>204.0</td>\n",
       "      <td>107.7</td>\n",
       "    </tr>\n",
       "    <tr>\n",
       "      <th>3</th>\n",
       "      <td>12</td>\n",
       "      <td>1</td>\n",
       "      <td>1</td>\n",
       "      <td>204.0</td>\n",
       "      <td>107.7</td>\n",
       "    </tr>\n",
       "    <tr>\n",
       "      <th>4</th>\n",
       "      <td>12</td>\n",
       "      <td>1</td>\n",
       "      <td>1</td>\n",
       "      <td>204.0</td>\n",
       "      <td>107.7</td>\n",
       "    </tr>\n",
       "    <tr>\n",
       "      <th>...</th>\n",
       "      <td>...</td>\n",
       "      <td>...</td>\n",
       "      <td>...</td>\n",
       "      <td>...</td>\n",
       "      <td>...</td>\n",
       "    </tr>\n",
       "    <tr>\n",
       "      <th>4171</th>\n",
       "      <td>12</td>\n",
       "      <td>1</td>\n",
       "      <td>1</td>\n",
       "      <td>147.9</td>\n",
       "      <td>1114.4</td>\n",
       "    </tr>\n",
       "    <tr>\n",
       "      <th>4172</th>\n",
       "      <td>92</td>\n",
       "      <td>1</td>\n",
       "      <td>2</td>\n",
       "      <td>418.6</td>\n",
       "      <td>1154.5</td>\n",
       "    </tr>\n",
       "    <tr>\n",
       "      <th>4173</th>\n",
       "      <td>39</td>\n",
       "      <td>1</td>\n",
       "      <td>1</td>\n",
       "      <td>356.6</td>\n",
       "      <td>27.1</td>\n",
       "    </tr>\n",
       "    <tr>\n",
       "      <th>4174</th>\n",
       "      <td>65</td>\n",
       "      <td>1</td>\n",
       "      <td>1</td>\n",
       "      <td>1057.1</td>\n",
       "      <td>1334.6</td>\n",
       "    </tr>\n",
       "    <tr>\n",
       "      <th>4175</th>\n",
       "      <td>65</td>\n",
       "      <td>1</td>\n",
       "      <td>1</td>\n",
       "      <td>1055.5</td>\n",
       "      <td>1339.7</td>\n",
       "    </tr>\n",
       "  </tbody>\n",
       "</table>\n",
       "<p>4169 rows × 5 columns</p>\n",
       "</div>"
      ],
      "text/plain": [
       "              Sector  Camera  CCD     Row  Column\n",
       "Target Index                                     \n",
       "0                 17       2    1   384.5   105.2\n",
       "1                 17       2    1   384.5   105.2\n",
       "2                 12       1    1   204.0   107.7\n",
       "3                 12       1    1   204.0   107.7\n",
       "4                 12       1    1   204.0   107.7\n",
       "...              ...     ...  ...     ...     ...\n",
       "4171              12       1    1   147.9  1114.4\n",
       "4172              92       1    2   418.6  1154.5\n",
       "4173              39       1    1   356.6    27.1\n",
       "4174              65       1    1  1057.1  1334.6\n",
       "4175              65       1    1  1055.5  1339.7\n",
       "\n",
       "[4169 rows x 5 columns]"
      ]
     },
     "execution_count": 6,
     "metadata": {},
     "output_type": "execute_result"
    }
   ],
   "source": [
    "g = observable.to_pandas().groupby('Target Index').min()\n",
    "g"
   ]
  },
  {
   "cell_type": "markdown",
   "id": "9a31d401-2938-481d-a868-3cee1d2884ac",
   "metadata": {},
   "source": [
    "This groupby operation takes the `min` across all the columns for cases of the same `'Target Index'`"
   ]
  },
  {
   "cell_type": "code",
   "execution_count": 7,
   "id": "7d621aa9-4ea0-49bc-966e-801c3a865f1f",
   "metadata": {},
   "outputs": [
    {
     "name": "stdout",
     "output_type": "stream",
     "text": [
      "92\n"
     ]
    }
   ],
   "source": [
    "cycle7_mask = (g['Sector'] >= 84) & (g['Sector'] <= 96)\n",
    "target_index = list(g[cycle7_mask].index)\n",
    "print(len(target_index))"
   ]
  },
  {
   "cell_type": "markdown",
   "id": "cde9b54a-e7bf-44bd-81c2-5dd6b2299c90",
   "metadata": {},
   "source": [
    "There are 92 confirmed transiting planets that will be observed for the first time in Cycle 7!"
   ]
  },
  {
   "cell_type": "code",
   "execution_count": 8,
   "id": "ac35d7c2-a574-4f83-99e9-2037cdb57ae0",
   "metadata": {},
   "outputs": [
    {
     "data": {
      "text/html": [
       "<div><i>QTable masked=True length=92</i>\n",
       "<table id=\"table5011763008\" class=\"table-striped table-bordered table-condensed\">\n",
       "<thead><tr><th>pl_name</th><th>ra</th><th>dec</th><th>sy_tmag</th><th>sky_coord</th></tr></thead>\n",
       "<thead><tr><th></th><th>deg</th><th>deg</th><th>mag</th><th>deg,deg</th></tr></thead>\n",
       "<thead><tr><th>str19</th><th>float64</th><th>float64</th><th>float64</th><th>SkyCoord</th></tr></thead>\n",
       "<tr><td>HD 106315 c</td><td>183.4724742</td><td>-0.3934357</td><td>8.56338</td><td>183.4724742,-0.3934357</td></tr>\n",
       "<tr><td>HD 106315 b</td><td>183.4724742</td><td>-0.3934357</td><td>8.56338</td><td>183.4724742,-0.3934357</td></tr>\n",
       "<tr><td>Wolf 503 b</td><td>206.8461979</td><td>-6.1393369</td><td>9.2493</td><td>206.8461979,-6.1393369</td></tr>\n",
       "<tr><td>HD 137496 b</td><td>231.7420543</td><td>-16.5090014</td><td>9.29961</td><td>231.7420543,-16.5090014</td></tr>\n",
       "<tr><td>K2-292 b</td><td>205.3758786</td><td>-9.9460704</td><td>9.31975</td><td>205.3758786,-9.9460704</td></tr>\n",
       "<tr><td>K2-233 b</td><td>230.4799011</td><td>-20.2317975</td><td>9.8125</td><td>230.4799011,-20.2317975</td></tr>\n",
       "<tr><td>...</td><td>...</td><td>...</td><td>...</td><td>...</td></tr>\n",
       "<tr><td>K2-316 c</td><td>233.6247336</td><td>-23.2594663</td><td>14.2731</td><td>233.6247336,-23.2594663</td></tr>\n",
       "<tr><td>K2-316 b</td><td>233.6247336</td><td>-23.2594663</td><td>14.2731</td><td>233.6247336,-23.2594663</td></tr>\n",
       "<tr><td>K2-52 b</td><td>246.6114157</td><td>-24.9699462</td><td>14.2904</td><td>246.6114157,-24.9699462</td></tr>\n",
       "<tr><td>K2-315 b</td><td>228.0210932</td><td>-20.1081634</td><td>14.3273</td><td>228.0210932,-20.1081634</td></tr>\n",
       "<tr><td>K2-378 b</td><td>205.1596569</td><td>-11.1172332</td><td>14.8943</td><td>205.1596569,-11.1172332</td></tr>\n",
       "<tr><td>HAT-P-63 b</td><td>279.7967696</td><td>-20.0242684</td><td>19.2571</td><td>279.7967696,-20.0242684</td></tr>\n",
       "</table></div>"
      ],
      "text/plain": [
       "<QTable masked=True length=92>\n",
       "  pl_name        ra         dec     sy_tmag        sky_coord       \n",
       "                deg         deg       mag           deg,deg        \n",
       "   str19      float64     float64   float64         SkyCoord       \n",
       "----------- ----------- ----------- ------- -----------------------\n",
       "HD 106315 c 183.4724742  -0.3934357 8.56338  183.4724742,-0.3934357\n",
       "HD 106315 b 183.4724742  -0.3934357 8.56338  183.4724742,-0.3934357\n",
       " Wolf 503 b 206.8461979  -6.1393369  9.2493  206.8461979,-6.1393369\n",
       "HD 137496 b 231.7420543 -16.5090014 9.29961 231.7420543,-16.5090014\n",
       "   K2-292 b 205.3758786  -9.9460704 9.31975  205.3758786,-9.9460704\n",
       "   K2-233 b 230.4799011 -20.2317975  9.8125 230.4799011,-20.2317975\n",
       "        ...         ...         ...     ...                     ...\n",
       "   K2-316 c 233.6247336 -23.2594663 14.2731 233.6247336,-23.2594663\n",
       "   K2-316 b 233.6247336 -23.2594663 14.2731 233.6247336,-23.2594663\n",
       "    K2-52 b 246.6114157 -24.9699462 14.2904 246.6114157,-24.9699462\n",
       "   K2-315 b 228.0210932 -20.1081634 14.3273 228.0210932,-20.1081634\n",
       "   K2-378 b 205.1596569 -11.1172332 14.8943 205.1596569,-11.1172332\n",
       " HAT-P-63 b 279.7967696 -20.0242684 19.2571 279.7967696,-20.0242684"
      ]
     },
     "execution_count": 8,
     "metadata": {},
     "output_type": "execute_result"
    }
   ],
   "source": [
    "confirmed_exoplanets_table[target_index]"
   ]
  },
  {
   "cell_type": "markdown",
   "id": "f60ce80a-271e-44e7-8bb2-950caf9b578e",
   "metadata": {},
   "source": [
    "## Example 2: Finding whether a transient will be observable with TESS"
   ]
  },
  {
   "cell_type": "markdown",
   "id": "3e5536f3-ca9e-456a-9288-bd72ac73bf4d",
   "metadata": {},
   "source": [
    "Sometimes we might find an interesting transient, and we want to know whether it will fall on a TESS pixel so that we can recover the optical time-series when the data is downlinked. For example, [GRB 231106A](https://gcn.nasa.gov/circulars/34956) occured in November 2023 and happened to be observable during the TESS survey. \n",
    "\n",
    "Here we show how we would find out if a transient has been (or will be) observable with TESS. \n",
    "\n",
    "To do this we will need two things, the coordinate of the object, and the time at which we would like to observe it. Here we'll use the location and detection time of GRB 231106A."
   ]
  },
  {
   "cell_type": "code",
   "execution_count": 9,
   "id": "377ae74c-7266-484b-8173-bb12e97b291b",
   "metadata": {},
   "outputs": [],
   "source": [
    "from astropy.time import Time\n",
    "from astropy.coordinates import SkyCoord\n",
    "\n",
    "t = Time('2023-11-06T18:13:23Z')\n",
    "c = SkyCoord(113.4482, 29.2245, unit='degree')"
   ]
  },
  {
   "cell_type": "code",
   "execution_count": 10,
   "id": "8970a33d-a5f4-46a7-95dd-934273870ef7",
   "metadata": {},
   "outputs": [
    {
     "data": {
      "text/html": [
       "<div><i>Table length=1</i>\n",
       "<table id=\"table4429965392\" class=\"table-striped table-bordered table-condensed\">\n",
       "<thead><tr><th>Target Index</th><th>Sector</th><th>Camera</th><th>CCD</th><th>Row</th><th>Column</th></tr></thead>\n",
       "<thead><tr><th>int64</th><th>int64</th><th>int64</th><th>int64</th><th>float64</th><th>float64</th></tr></thead>\n",
       "<tr><td>0</td><td>71</td><td>4</td><td>1</td><td>764.6</td><td>1451.4</td></tr>\n",
       "</table></div>"
      ],
      "text/plain": [
       "<Table length=1>\n",
       "Target Index Sector Camera  CCD    Row    Column\n",
       "   int64     int64  int64  int64 float64 float64\n",
       "------------ ------ ------ ----- ------- -------\n",
       "           0     71      4     1   764.6  1451.4"
      ]
     },
     "execution_count": 10,
     "metadata": {},
     "output_type": "execute_result"
    }
   ],
   "source": [
    "get_pixel_locations(coords=c, time=t)"
   ]
  },
  {
   "cell_type": "markdown",
   "id": "b296167a-92be-482d-9dcb-8fa238b52340",
   "metadata": {},
   "source": [
    "We can see that this returned a hit, we are able to detect the target during Sector 71, on Camera 4, CCD 1! \n",
    "\n",
    "In instances where the time passed is recent (or in the future!) and there is no archival TESS WCS to use, `tesswcs` will predict the WCS for future TESS pointings."
   ]
  }
 ],
 "metadata": {
  "kernelspec": {
   "display_name": "Python 3 (ipykernel)",
   "language": "python",
   "name": "python3"
  },
  "language_info": {
   "codemirror_mode": {
    "name": "ipython",
    "version": 3
   },
   "file_extension": ".py",
   "mimetype": "text/x-python",
   "name": "python",
   "nbconvert_exporter": "python",
   "pygments_lexer": "ipython3",
   "version": "3.9.13"
  }
 },
 "nbformat": 4,
 "nbformat_minor": 5
}
